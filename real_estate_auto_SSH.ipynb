{
  "nbformat": 4,
  "nbformat_minor": 0,
  "metadata": {
    "colab": {
      "provenance": []
    },
    "kernelspec": {
      "name": "python3",
      "display_name": "Python 3"
    },
    "language_info": {
      "name": "python"
    }
  },
  "cells": [
    {
      "cell_type": "code",
      "execution_count": null,
      "metadata": {
        "id": "2OSSlk_w8e4i"
      },
      "outputs": [],
      "source": [
        "import pandas as pd\n",
        "from google.cloud import bigquery\n",
        "import time\n",
        "import xml.etree.ElementTree as ET    #ET : xml 전처리해주는 도구\n",
        "import requests\n",
        "from google.oauth2 import service_account\n",
        "import pandas_gbq"
      ]
    },
    {
      "cell_type": "code",
      "source": [
        "!apt-get install google-cloud-sdk\n"
      ],
      "metadata": {
        "colab": {
          "base_uri": "https://localhost:8080/"
        },
        "id": "OGv4Eo-0Pjh9",
        "outputId": "0747da52-d0c1-4192-e365-02967e2222cc"
      },
      "execution_count": null,
      "outputs": [
        {
          "output_type": "stream",
          "name": "stdout",
          "text": [
            "Reading package lists... Done\n",
            "Building dependency tree... Done\n",
            "Reading state information... Done\n",
            "E: Unable to locate package google-cloud-sdk\n"
          ]
        }
      ]
    },
    {
      "cell_type": "code",
      "source": [
        "start = time.time()"
      ],
      "metadata": {
        "id": "zFzORx2nJSMt"
      },
      "execution_count": null,
      "outputs": []
    },
    {
      "cell_type": "code",
      "source": [
        "#빅쿼리 연결 설정\n",
        "project_id = 'strange-terra-415002'\n",
        "client = bigquery.Client(project=project_id)\n",
        "\n",
        "print('1/3 빅쿼리 연결 설정 완료')"
      ],
      "metadata": {
        "colab": {
          "base_uri": "https://localhost:8080/"
        },
        "id": "q5ntWWVaA1fI",
        "outputId": "d906f1b7-9cdc-4bb8-945c-8fae3f3c939e"
      },
      "execution_count": null,
      "outputs": [
        {
          "output_type": "stream",
          "name": "stdout",
          "text": [
            "1/3 빅쿼리 연결 설정 완료\n"
          ]
        }
      ]
    },
    {
      "cell_type": "code",
      "source": [
        "url = 'http://openapi.seoul.go.kr:8088/4178724f416e656437366d46676961/xml/tbLnOpendataRentV/1/5/2024'\n",
        "\n",
        "# 파라미터를 딕셔너리 형태로 입력 : 강의 때 들은 방식(소괄호 사용)으로는 에러나서 불가능 했음(ValueError: too many values to unpack (expected 2))\n",
        "params = {\n",
        "    'KEY': '4178724f416e656437366d46676961',\n",
        "    'TYPE': 'xml',\n",
        "    'SERVICE': 'tbLnOpendataRentV',\n",
        "    'START_INDEX': 0,\n",
        "    'END_INDEX': 50\n",
        "}\n",
        "\n",
        "response = requests.get(url, params)"
      ],
      "metadata": {
        "id": "b_jnFTaUAg3u"
      },
      "execution_count": null,
      "outputs": []
    },
    {
      "cell_type": "code",
      "source": [
        "#fromstring 메소드를 통해 XML 자료형을 처리할 수 있음\n",
        "ET.fromstring(response.text)\n",
        "print('2/3 데이터 생성 완료')"
      ],
      "metadata": {
        "colab": {
          "base_uri": "https://localhost:8080/"
        },
        "id": "gBjiKhUCAkpN",
        "outputId": "30d9a160-6804-4f6c-92d6-2ca47f0cda53"
      },
      "execution_count": null,
      "outputs": [
        {
          "output_type": "execute_result",
          "data": {
            "text/plain": [
              "<Element 'tbLnOpendataRentV' at 0x7a3dd6e944f0>"
            ]
          },
          "metadata": {},
          "execution_count": 24
        }
      ]
    },
    {
      "cell_type": "code",
      "source": [
        "# XML을 DataFrame으로 변환\n",
        "df = pd.read_xml(response.text)\n",
        "\n",
        "# 필요한 컬럼 선택\n",
        "columns_to_keep = ['ACC_YEAR', 'SGG_CD', 'SGG_NM', 'BJDONG_CD', 'BJDONG_NM', 'LAND_GBN', 'LAND_GBN_NM', 'BOBN', 'BUBN', 'FLR_NO', 'CNTRCT_DE', 'RENT_GBN', 'RENT_AREA', 'RENT_GTN', 'RENT_FEE', 'BLDG_NM', 'BUILD_YEAR', 'HOUSE_GBN_NM', 'CNTRCT_PRD', 'NEW_RON_SECD', 'CNTRCT_UPDT_RQEST_AT', 'BEFORE_GRNTY_AMOUNT', 'BEFORE_MT_RENT_CHRGE']\n",
        "df = df[columns_to_keep]\n",
        "\n",
        "# 결과 확인\n",
        "usefull = ['ACC_YEAR', 'SGG_CD', 'SGG_NM', 'BJDONG_NM', 'FLR_NO', 'CNTRCT_DE', 'RENT_GBN', 'RENT_AREA', 'RENT_FEE', 'BLDG_NM','BUILD_YEAR', 'HOUSE_GBN_NM']\n",
        "real_estate = df[usefull]"
      ],
      "metadata": {
        "id": "qvr9SmHlAnKs"
      },
      "execution_count": null,
      "outputs": []
    },
    {
      "cell_type": "code",
      "source": [
        "table_id = 'strange-terra-415002.real_estate_auto.real_estate_table'          #corp_name따라 테이블 만들기\n",
        "pandas_gbq.to_gbq(real_estate, table_id, project_id='strange-terra-415002', if_exists='replace') #project에 추가"
      ],
      "metadata": {
        "colab": {
          "base_uri": "https://localhost:8080/"
        },
        "id": "1ndXP4WcA8Z2",
        "outputId": "628e864c-00bd-41a7-922c-b0676d9b4a2f"
      },
      "execution_count": null,
      "outputs": [
        {
          "output_type": "stream",
          "name": "stderr",
          "text": [
            "100%|██████████| 1/1 [00:00<00:00, 7384.34it/s]\n"
          ]
        }
      ]
    },
    {
      "cell_type": "code",
      "source": [],
      "metadata": {
        "id": "Q5mUEYquA_3U"
      },
      "execution_count": null,
      "outputs": []
    },
    {
      "cell_type": "code",
      "source": [
        "\n",
        "end = time.time()\n",
        "print(\"3/3 작업완료, {}초 소요\".format(round(end-start)))"
      ],
      "metadata": {
        "colab": {
          "base_uri": "https://localhost:8080/"
        },
        "id": "_ezE0AOsJ-ag",
        "outputId": "355dafe4-b673-4786-efa7-9a13af0b76a0"
      },
      "execution_count": null,
      "outputs": [
        {
          "output_type": "stream",
          "name": "stdout",
          "text": [
            "3/3 작업완료, 3287초 소요\n"
          ]
        }
      ]
    }
  ]
}